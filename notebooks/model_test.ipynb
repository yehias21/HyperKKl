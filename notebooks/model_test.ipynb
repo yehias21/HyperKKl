{
 "cells": [
  {
   "cell_type": "code",
   "outputs": [],
   "source": [
    "import torch, torch.nn as nn\n",
    "from torchviz import make_dot\n",
    "from models import MLP"
   ],
   "metadata": {
    "collapsed": false,
    "ExecuteTime": {
     "end_time": "2024-02-12T13:28:02.383657731Z",
     "start_time": "2024-02-12T13:27:56.077852809Z"
    }
   },
   "id": "cbf66c90e950fef",
   "execution_count": 1
  },
  {
   "cell_type": "code",
   "outputs": [
    {
     "name": "stdout",
     "output_type": "stream",
     "text": [
      "------MAIN MAPPER-------\n",
      "MLP(\n",
      "  (layers): ModuleList(\n",
      "    (0): Linear(in_features=2, out_features=12, bias=True)\n",
      "    (1): ReLU()\n",
      "    (2): Linear(in_features=12, out_features=13, bias=True)\n",
      "    (3): ReLU()\n",
      "    (4): Linear(in_features=13, out_features=5, bias=True)\n",
      "  )\n",
      ")\n",
      "------Hypernetwork-------\n",
      "MLP(\n",
      "  (layers): ModuleList(\n",
      "    (0): Linear(in_features=1, out_features=100, bias=True)\n",
      "    (1): ReLU()\n",
      "    (2): Linear(in_features=100, out_features=245, bias=True)\n",
      "  )\n",
      ")\n"
     ]
    }
   ],
   "source": [
    "# Initialize main model\n",
    "main_mapper = MLP(2,5,[12,13], ['relu','relu'], technique='delta') # Total weights = 2*12 + 12*13 + 13*5 = 245 \n",
    "print(f\"------MAIN MAPPER-------\")\n",
    "print(f\"{main_mapper}\")\n",
    "\n",
    "# Hypernetwork\n",
    "\n",
    "hnn = MLP(1,245,[100],['relu'])\n",
    "print(f\"------Hypernetwork-------\")\n",
    "print(f\"{hnn}\")"
   ],
   "metadata": {
    "collapsed": false,
    "ExecuteTime": {
     "end_time": "2024-02-12T13:28:02.509526301Z",
     "start_time": "2024-02-12T13:28:02.425831008Z"
    }
   },
   "id": "c742071bcaaa8757",
   "execution_count": 2
  },
  {
   "cell_type": "code",
   "outputs": [],
   "source": [
    "# # Add forward hooks to hypernetwork \n",
    "# hnn.layers[0].register_forward_hook(lambda module, i, output: print('fc1 forward hook called'))\n",
    "# hnn.layers[2].register_forward_hook(lambda module, i, output: print('fc2 forward hook called'))\n",
    "# main_mapper.layers[0].register_forward_hook(lambda module, i, output: print('fc1 forward hook called'))\n",
    "# # Register backward hooks\n",
    "# hnn.layers[0].register_full_backward_hook(lambda module, grad_i, grad_output: print(f'fc1 backward hook called'))\n",
    "# hnn.layers[2].register_full_backward_hook(lambda module, grad_i, grad_output: print(f'fc2 backward hook called'))"
   ],
   "metadata": {
    "collapsed": false,
    "ExecuteTime": {
     "end_time": "2024-02-12T13:28:02.571773302Z",
     "start_time": "2024-02-12T13:28:02.426737806Z"
    }
   },
   "id": "b38a335d6854ec8a",
   "execution_count": 3
  },
  {
   "cell_type": "code",
   "outputs": [],
   "source": [
    "weights = {k:v for k,v in main_mapper.state_dict().items() if 'weight' in k}"
   ],
   "metadata": {
    "collapsed": false,
    "ExecuteTime": {
     "end_time": "2024-02-12T13:28:02.672809077Z",
     "start_time": "2024-02-12T13:28:02.441125573Z"
    }
   },
   "id": "4eb2fbfdd1cadb83",
   "execution_count": 4
  },
  {
   "cell_type": "markdown",
   "source": [],
   "metadata": {
    "collapsed": false
   },
   "id": "dd01bfd0c52ada12"
  },
  {
   "cell_type": "code",
   "outputs": [
    {
     "name": "stdout",
     "output_type": "stream",
     "text": [
      "Weights shape is: torch.Size([245])\n"
     ]
    }
   ],
   "source": [
    "# hypernetwork forward pass\n",
    "u = torch.randn(1, requires_grad= True)\n",
    "hnn.technique='none'\n",
    "w = hnn(u)\n",
    "print(f\"Weights shape is: {w.shape}\")\n",
    "\n",
    "# reshape hypernetwork weights and update weights dict\n",
    "slide = 0\n",
    "for k,v in weights.items():\n",
    "    weights[k] = w[slide: slide+v.numel()].reshape(v.shape)\n",
    "    slide += v.numel() "
   ],
   "metadata": {
    "collapsed": false,
    "ExecuteTime": {
     "end_time": "2024-02-12T13:28:02.674607195Z",
     "start_time": "2024-02-12T13:28:02.463315315Z"
    }
   },
   "id": "6e245d26c4a7e9fc",
   "execution_count": 5
  },
  {
   "cell_type": "code",
   "outputs": [],
   "source": [
    "x = torch.randn(2)\n",
    "y = main_mapper(x, weights)"
   ],
   "metadata": {
    "collapsed": false,
    "ExecuteTime": {
     "end_time": "2024-02-12T13:28:02.677473488Z",
     "start_time": "2024-02-12T13:28:02.489099209Z"
    }
   },
   "id": "1a1a215760f2de0c",
   "execution_count": 6
  },
  {
   "cell_type": "code",
   "outputs": [
    {
     "data": {
      "text/plain": "'backward_hnn.png'"
     },
     "execution_count": 7,
     "metadata": {},
     "output_type": "execute_result"
    }
   ],
   "source": [
    "hnn.zero_grad()\n",
    "make_dot(y.mean(), params=dict(hnn.named_parameters())).render(\"backward_hnn\", format=\"png\")"
   ],
   "metadata": {
    "collapsed": false,
    "ExecuteTime": {
     "end_time": "2024-02-12T13:28:02.838981658Z",
     "start_time": "2024-02-12T13:28:02.530033981Z"
    }
   },
   "id": "4771d597499019cf",
   "execution_count": 7
  },
  {
   "cell_type": "code",
   "outputs": [
    {
     "name": "stdout",
     "output_type": "stream",
     "text": [
      "tensor([[ 1.0056, -0.1970, -0.1704],\n",
      "        [ 0.8398,  0.5012,  0.8547]]) tensor([1.])\n",
      "tensor([[2.0056, 0.8030, 0.8296],\n",
      "        [1.8398, 1.5012, 1.8547]])\n"
     ]
    }
   ],
   "source": [
    "import torch\n",
    "\n",
    "x = torch.randn((2,3))\n",
    "y = torch.Tensor([1])\n",
    "print(x, y)\n",
    "print(x+y)"
   ],
   "metadata": {
    "collapsed": false,
    "ExecuteTime": {
     "end_time": "2024-02-16T16:33:28.999137944Z",
     "start_time": "2024-02-16T16:33:28.951875600Z"
    }
   },
   "id": "e0424511d8bf7026",
   "execution_count": 3
  }
 ],
 "metadata": {
  "kernelspec": {
   "display_name": "Python 3",
   "language": "python",
   "name": "python3"
  },
  "language_info": {
   "codemirror_mode": {
    "name": "ipython",
    "version": 2
   },
   "file_extension": ".py",
   "mimetype": "text/x-python",
   "name": "python",
   "nbconvert_exporter": "python",
   "pygments_lexer": "ipython2",
   "version": "2.7.6"
  }
 },
 "nbformat": 4,
 "nbformat_minor": 5
}
